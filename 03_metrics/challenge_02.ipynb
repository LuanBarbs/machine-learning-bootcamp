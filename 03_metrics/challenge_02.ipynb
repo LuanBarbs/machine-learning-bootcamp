{
 "cells": [
  {
   "cell_type": "markdown",
   "id": "8ccda17d",
   "metadata": {},
   "source": [
    "# Classifying Electrocardiograms"
   ]
  },
  {
   "cell_type": "code",
   "execution_count": 59,
   "id": "3308050d",
   "metadata": {},
   "outputs": [],
   "source": [
    "import pandas as pd\n",
    "import matplotlib.pyplot as plt\n",
    "from sklearn.linear_model import LogisticRegression\n",
    "from sklearn.neighbors import KNeighborsClassifier\n",
    "from sklearn.metrics import confusion_matrix, ConfusionMatrixDisplay, classification_report\n",
    "from sklearn.model_selection import cross_validate, train_test_split, cross_val_predict"
   ]
  },
  {
   "cell_type": "markdown",
   "id": "dcc31e82",
   "metadata": {},
   "source": [
    "## (1) Electrocardiograms\n",
    "\n",
    "Each observation of the dataset is a sequence of measured heartbeats, taken from a patient's electrocardiogram (ECG).\n",
    "\n",
    "The target is binary and defines whether the heartbeat shows:\n",
    "* a risk of cardiovascular disease (1)\n",
    "* or not (0)"
   ]
  },
  {
   "cell_type": "code",
   "execution_count": 3,
   "id": "7971ff62",
   "metadata": {},
   "outputs": [
    {
     "data": {
      "text/html": [
       "<div>\n",
       "<style scoped>\n",
       "    .dataframe tbody tr th:only-of-type {\n",
       "        vertical-align: middle;\n",
       "    }\n",
       "\n",
       "    .dataframe tbody tr th {\n",
       "        vertical-align: top;\n",
       "    }\n",
       "\n",
       "    .dataframe thead th {\n",
       "        text-align: right;\n",
       "    }\n",
       "</style>\n",
       "<table border=\"1\" class=\"dataframe\">\n",
       "  <thead>\n",
       "    <tr style=\"text-align: right;\">\n",
       "      <th></th>\n",
       "      <th>x_1</th>\n",
       "      <th>x_2</th>\n",
       "      <th>x_3</th>\n",
       "      <th>x_4</th>\n",
       "      <th>x_5</th>\n",
       "      <th>x_6</th>\n",
       "      <th>x_7</th>\n",
       "      <th>x_8</th>\n",
       "      <th>x_9</th>\n",
       "      <th>x_10</th>\n",
       "      <th>...</th>\n",
       "      <th>x_179</th>\n",
       "      <th>x_180</th>\n",
       "      <th>x_181</th>\n",
       "      <th>x_182</th>\n",
       "      <th>x_183</th>\n",
       "      <th>x_184</th>\n",
       "      <th>x_185</th>\n",
       "      <th>x_186</th>\n",
       "      <th>x_187</th>\n",
       "      <th>target</th>\n",
       "    </tr>\n",
       "  </thead>\n",
       "  <tbody>\n",
       "    <tr>\n",
       "      <th>0</th>\n",
       "      <td>0.000000</td>\n",
       "      <td>0.041199</td>\n",
       "      <td>0.112360</td>\n",
       "      <td>0.146067</td>\n",
       "      <td>0.202247</td>\n",
       "      <td>0.322097</td>\n",
       "      <td>0.363296</td>\n",
       "      <td>0.413858</td>\n",
       "      <td>0.426966</td>\n",
       "      <td>0.485019</td>\n",
       "      <td>...</td>\n",
       "      <td>0.000000</td>\n",
       "      <td>0.000000</td>\n",
       "      <td>0.000000</td>\n",
       "      <td>0.0</td>\n",
       "      <td>0.0</td>\n",
       "      <td>0.0</td>\n",
       "      <td>0.0</td>\n",
       "      <td>0.0</td>\n",
       "      <td>0.0</td>\n",
       "      <td>1</td>\n",
       "    </tr>\n",
       "    <tr>\n",
       "      <th>1</th>\n",
       "      <td>1.000000</td>\n",
       "      <td>0.901786</td>\n",
       "      <td>0.760714</td>\n",
       "      <td>0.610714</td>\n",
       "      <td>0.466071</td>\n",
       "      <td>0.385714</td>\n",
       "      <td>0.364286</td>\n",
       "      <td>0.346429</td>\n",
       "      <td>0.314286</td>\n",
       "      <td>0.305357</td>\n",
       "      <td>...</td>\n",
       "      <td>0.000000</td>\n",
       "      <td>0.000000</td>\n",
       "      <td>0.000000</td>\n",
       "      <td>0.0</td>\n",
       "      <td>0.0</td>\n",
       "      <td>0.0</td>\n",
       "      <td>0.0</td>\n",
       "      <td>0.0</td>\n",
       "      <td>0.0</td>\n",
       "      <td>1</td>\n",
       "    </tr>\n",
       "    <tr>\n",
       "      <th>2</th>\n",
       "      <td>0.994200</td>\n",
       "      <td>1.000000</td>\n",
       "      <td>0.951276</td>\n",
       "      <td>0.903712</td>\n",
       "      <td>0.917633</td>\n",
       "      <td>0.900232</td>\n",
       "      <td>0.803944</td>\n",
       "      <td>0.656613</td>\n",
       "      <td>0.421114</td>\n",
       "      <td>0.288863</td>\n",
       "      <td>...</td>\n",
       "      <td>0.294664</td>\n",
       "      <td>0.295824</td>\n",
       "      <td>0.301624</td>\n",
       "      <td>0.0</td>\n",
       "      <td>0.0</td>\n",
       "      <td>0.0</td>\n",
       "      <td>0.0</td>\n",
       "      <td>0.0</td>\n",
       "      <td>0.0</td>\n",
       "      <td>1</td>\n",
       "    </tr>\n",
       "    <tr>\n",
       "      <th>3</th>\n",
       "      <td>0.984472</td>\n",
       "      <td>0.962733</td>\n",
       "      <td>0.663043</td>\n",
       "      <td>0.211180</td>\n",
       "      <td>0.000000</td>\n",
       "      <td>0.032609</td>\n",
       "      <td>0.100932</td>\n",
       "      <td>0.177019</td>\n",
       "      <td>0.270186</td>\n",
       "      <td>0.313665</td>\n",
       "      <td>...</td>\n",
       "      <td>0.000000</td>\n",
       "      <td>0.000000</td>\n",
       "      <td>0.000000</td>\n",
       "      <td>0.0</td>\n",
       "      <td>0.0</td>\n",
       "      <td>0.0</td>\n",
       "      <td>0.0</td>\n",
       "      <td>0.0</td>\n",
       "      <td>0.0</td>\n",
       "      <td>1</td>\n",
       "    </tr>\n",
       "    <tr>\n",
       "      <th>4</th>\n",
       "      <td>0.619217</td>\n",
       "      <td>0.489324</td>\n",
       "      <td>0.327402</td>\n",
       "      <td>0.110320</td>\n",
       "      <td>0.000000</td>\n",
       "      <td>0.060498</td>\n",
       "      <td>0.108541</td>\n",
       "      <td>0.108541</td>\n",
       "      <td>0.145907</td>\n",
       "      <td>0.192171</td>\n",
       "      <td>...</td>\n",
       "      <td>0.000000</td>\n",
       "      <td>0.000000</td>\n",
       "      <td>0.000000</td>\n",
       "      <td>0.0</td>\n",
       "      <td>0.0</td>\n",
       "      <td>0.0</td>\n",
       "      <td>0.0</td>\n",
       "      <td>0.0</td>\n",
       "      <td>0.0</td>\n",
       "      <td>1</td>\n",
       "    </tr>\n",
       "  </tbody>\n",
       "</table>\n",
       "<p>5 rows × 188 columns</p>\n",
       "</div>"
      ],
      "text/plain": [
       "        x_1       x_2       x_3       x_4       x_5       x_6       x_7  \\\n",
       "0  0.000000  0.041199  0.112360  0.146067  0.202247  0.322097  0.363296   \n",
       "1  1.000000  0.901786  0.760714  0.610714  0.466071  0.385714  0.364286   \n",
       "2  0.994200  1.000000  0.951276  0.903712  0.917633  0.900232  0.803944   \n",
       "3  0.984472  0.962733  0.663043  0.211180  0.000000  0.032609  0.100932   \n",
       "4  0.619217  0.489324  0.327402  0.110320  0.000000  0.060498  0.108541   \n",
       "\n",
       "        x_8       x_9      x_10  ...     x_179     x_180     x_181  x_182  \\\n",
       "0  0.413858  0.426966  0.485019  ...  0.000000  0.000000  0.000000    0.0   \n",
       "1  0.346429  0.314286  0.305357  ...  0.000000  0.000000  0.000000    0.0   \n",
       "2  0.656613  0.421114  0.288863  ...  0.294664  0.295824  0.301624    0.0   \n",
       "3  0.177019  0.270186  0.313665  ...  0.000000  0.000000  0.000000    0.0   \n",
       "4  0.108541  0.145907  0.192171  ...  0.000000  0.000000  0.000000    0.0   \n",
       "\n",
       "   x_183  x_184  x_185  x_186  x_187  target  \n",
       "0    0.0    0.0    0.0    0.0    0.0       1  \n",
       "1    0.0    0.0    0.0    0.0    0.0       1  \n",
       "2    0.0    0.0    0.0    0.0    0.0       1  \n",
       "3    0.0    0.0    0.0    0.0    0.0       1  \n",
       "4    0.0    0.0    0.0    0.0    0.0       1  \n",
       "\n",
       "[5 rows x 188 columns]"
      ]
     },
     "execution_count": 3,
     "metadata": {},
     "output_type": "execute_result"
    }
   ],
   "source": [
    "data = pd.read_csv(\"../data/metrics/ML_Electrocardiograms_dataset.csv\")\n",
    "\n",
    "data.head()"
   ]
  },
  {
   "cell_type": "code",
   "execution_count": 4,
   "id": "81d7d569",
   "metadata": {},
   "outputs": [
    {
     "data": {
      "text/plain": [
       "(19565, 188)"
      ]
     },
     "execution_count": 4,
     "metadata": {},
     "output_type": "execute_result"
    }
   ],
   "source": [
    "data.shape"
   ]
  },
  {
   "cell_type": "code",
   "execution_count": 6,
   "id": "db5ac691",
   "metadata": {},
   "outputs": [
    {
     "data": {
      "text/html": [
       "<div>\n",
       "<style scoped>\n",
       "    .dataframe tbody tr th:only-of-type {\n",
       "        vertical-align: middle;\n",
       "    }\n",
       "\n",
       "    .dataframe tbody tr th {\n",
       "        vertical-align: top;\n",
       "    }\n",
       "\n",
       "    .dataframe thead th {\n",
       "        text-align: right;\n",
       "    }\n",
       "</style>\n",
       "<table border=\"1\" class=\"dataframe\">\n",
       "  <thead>\n",
       "    <tr style=\"text-align: right;\">\n",
       "      <th></th>\n",
       "      <th>x_1</th>\n",
       "      <th>x_2</th>\n",
       "      <th>x_3</th>\n",
       "      <th>x_4</th>\n",
       "      <th>x_5</th>\n",
       "      <th>x_6</th>\n",
       "      <th>x_7</th>\n",
       "      <th>x_8</th>\n",
       "      <th>x_9</th>\n",
       "      <th>x_10</th>\n",
       "      <th>...</th>\n",
       "      <th>x_179</th>\n",
       "      <th>x_180</th>\n",
       "      <th>x_181</th>\n",
       "      <th>x_182</th>\n",
       "      <th>x_183</th>\n",
       "      <th>x_184</th>\n",
       "      <th>x_185</th>\n",
       "      <th>x_186</th>\n",
       "      <th>x_187</th>\n",
       "      <th>target</th>\n",
       "    </tr>\n",
       "  </thead>\n",
       "  <tbody>\n",
       "    <tr>\n",
       "      <th>count</th>\n",
       "      <td>19565.000000</td>\n",
       "      <td>19565.000000</td>\n",
       "      <td>19565.000000</td>\n",
       "      <td>19565.000000</td>\n",
       "      <td>19565.000000</td>\n",
       "      <td>19565.000000</td>\n",
       "      <td>19565.000000</td>\n",
       "      <td>19565.000000</td>\n",
       "      <td>19565.000000</td>\n",
       "      <td>19565.000000</td>\n",
       "      <td>...</td>\n",
       "      <td>19565.000000</td>\n",
       "      <td>19565.000000</td>\n",
       "      <td>19565.000000</td>\n",
       "      <td>19565.000000</td>\n",
       "      <td>19565.000000</td>\n",
       "      <td>19565.000000</td>\n",
       "      <td>19565.000000</td>\n",
       "      <td>19565.000000</td>\n",
       "      <td>19565.000000</td>\n",
       "      <td>19565.000000</td>\n",
       "    </tr>\n",
       "    <tr>\n",
       "      <th>mean</th>\n",
       "      <td>0.896572</td>\n",
       "      <td>0.767876</td>\n",
       "      <td>0.413719</td>\n",
       "      <td>0.197244</td>\n",
       "      <td>0.180303</td>\n",
       "      <td>0.193689</td>\n",
       "      <td>0.192769</td>\n",
       "      <td>0.192905</td>\n",
       "      <td>0.193743</td>\n",
       "      <td>0.197179</td>\n",
       "      <td>...</td>\n",
       "      <td>0.004113</td>\n",
       "      <td>0.003821</td>\n",
       "      <td>0.003485</td>\n",
       "      <td>0.003218</td>\n",
       "      <td>0.003049</td>\n",
       "      <td>0.002836</td>\n",
       "      <td>0.002471</td>\n",
       "      <td>0.002252</td>\n",
       "      <td>0.002218</td>\n",
       "      <td>0.074010</td>\n",
       "    </tr>\n",
       "    <tr>\n",
       "      <th>std</th>\n",
       "      <td>0.240958</td>\n",
       "      <td>0.220599</td>\n",
       "      <td>0.227000</td>\n",
       "      <td>0.189019</td>\n",
       "      <td>0.158124</td>\n",
       "      <td>0.160739</td>\n",
       "      <td>0.171927</td>\n",
       "      <td>0.174343</td>\n",
       "      <td>0.171893</td>\n",
       "      <td>0.170597</td>\n",
       "      <td>...</td>\n",
       "      <td>0.041312</td>\n",
       "      <td>0.040290</td>\n",
       "      <td>0.038035</td>\n",
       "      <td>0.036679</td>\n",
       "      <td>0.035847</td>\n",
       "      <td>0.034509</td>\n",
       "      <td>0.031731</td>\n",
       "      <td>0.030649</td>\n",
       "      <td>0.030541</td>\n",
       "      <td>0.261793</td>\n",
       "    </tr>\n",
       "    <tr>\n",
       "      <th>min</th>\n",
       "      <td>0.000000</td>\n",
       "      <td>0.000000</td>\n",
       "      <td>0.000000</td>\n",
       "      <td>0.000000</td>\n",
       "      <td>0.000000</td>\n",
       "      <td>0.000000</td>\n",
       "      <td>0.000000</td>\n",
       "      <td>0.000000</td>\n",
       "      <td>0.000000</td>\n",
       "      <td>0.000000</td>\n",
       "      <td>...</td>\n",
       "      <td>0.000000</td>\n",
       "      <td>0.000000</td>\n",
       "      <td>0.000000</td>\n",
       "      <td>0.000000</td>\n",
       "      <td>0.000000</td>\n",
       "      <td>0.000000</td>\n",
       "      <td>0.000000</td>\n",
       "      <td>0.000000</td>\n",
       "      <td>0.000000</td>\n",
       "      <td>0.000000</td>\n",
       "    </tr>\n",
       "    <tr>\n",
       "      <th>25%</th>\n",
       "      <td>0.933555</td>\n",
       "      <td>0.706215</td>\n",
       "      <td>0.236515</td>\n",
       "      <td>0.045845</td>\n",
       "      <td>0.077333</td>\n",
       "      <td>0.083333</td>\n",
       "      <td>0.068465</td>\n",
       "      <td>0.063291</td>\n",
       "      <td>0.061753</td>\n",
       "      <td>0.065844</td>\n",
       "      <td>...</td>\n",
       "      <td>0.000000</td>\n",
       "      <td>0.000000</td>\n",
       "      <td>0.000000</td>\n",
       "      <td>0.000000</td>\n",
       "      <td>0.000000</td>\n",
       "      <td>0.000000</td>\n",
       "      <td>0.000000</td>\n",
       "      <td>0.000000</td>\n",
       "      <td>0.000000</td>\n",
       "      <td>0.000000</td>\n",
       "    </tr>\n",
       "    <tr>\n",
       "      <th>50%</th>\n",
       "      <td>0.994012</td>\n",
       "      <td>0.834135</td>\n",
       "      <td>0.416107</td>\n",
       "      <td>0.147410</td>\n",
       "      <td>0.138554</td>\n",
       "      <td>0.148276</td>\n",
       "      <td>0.137931</td>\n",
       "      <td>0.135029</td>\n",
       "      <td>0.140325</td>\n",
       "      <td>0.145933</td>\n",
       "      <td>...</td>\n",
       "      <td>0.000000</td>\n",
       "      <td>0.000000</td>\n",
       "      <td>0.000000</td>\n",
       "      <td>0.000000</td>\n",
       "      <td>0.000000</td>\n",
       "      <td>0.000000</td>\n",
       "      <td>0.000000</td>\n",
       "      <td>0.000000</td>\n",
       "      <td>0.000000</td>\n",
       "      <td>0.000000</td>\n",
       "    </tr>\n",
       "    <tr>\n",
       "      <th>75%</th>\n",
       "      <td>1.000000</td>\n",
       "      <td>0.914601</td>\n",
       "      <td>0.574230</td>\n",
       "      <td>0.301939</td>\n",
       "      <td>0.235033</td>\n",
       "      <td>0.264758</td>\n",
       "      <td>0.279221</td>\n",
       "      <td>0.282187</td>\n",
       "      <td>0.286506</td>\n",
       "      <td>0.287726</td>\n",
       "      <td>...</td>\n",
       "      <td>0.000000</td>\n",
       "      <td>0.000000</td>\n",
       "      <td>0.000000</td>\n",
       "      <td>0.000000</td>\n",
       "      <td>0.000000</td>\n",
       "      <td>0.000000</td>\n",
       "      <td>0.000000</td>\n",
       "      <td>0.000000</td>\n",
       "      <td>0.000000</td>\n",
       "      <td>0.000000</td>\n",
       "    </tr>\n",
       "    <tr>\n",
       "      <th>max</th>\n",
       "      <td>1.000000</td>\n",
       "      <td>1.000000</td>\n",
       "      <td>1.000000</td>\n",
       "      <td>1.000000</td>\n",
       "      <td>0.996198</td>\n",
       "      <td>1.000000</td>\n",
       "      <td>1.000000</td>\n",
       "      <td>1.000000</td>\n",
       "      <td>1.000000</td>\n",
       "      <td>0.991429</td>\n",
       "      <td>...</td>\n",
       "      <td>0.980392</td>\n",
       "      <td>1.000000</td>\n",
       "      <td>0.966102</td>\n",
       "      <td>1.000000</td>\n",
       "      <td>1.000000</td>\n",
       "      <td>0.973366</td>\n",
       "      <td>1.000000</td>\n",
       "      <td>0.996053</td>\n",
       "      <td>1.000000</td>\n",
       "      <td>1.000000</td>\n",
       "    </tr>\n",
       "  </tbody>\n",
       "</table>\n",
       "<p>8 rows × 188 columns</p>\n",
       "</div>"
      ],
      "text/plain": [
       "                x_1           x_2           x_3           x_4           x_5  \\\n",
       "count  19565.000000  19565.000000  19565.000000  19565.000000  19565.000000   \n",
       "mean       0.896572      0.767876      0.413719      0.197244      0.180303   \n",
       "std        0.240958      0.220599      0.227000      0.189019      0.158124   \n",
       "min        0.000000      0.000000      0.000000      0.000000      0.000000   \n",
       "25%        0.933555      0.706215      0.236515      0.045845      0.077333   \n",
       "50%        0.994012      0.834135      0.416107      0.147410      0.138554   \n",
       "75%        1.000000      0.914601      0.574230      0.301939      0.235033   \n",
       "max        1.000000      1.000000      1.000000      1.000000      0.996198   \n",
       "\n",
       "                x_6           x_7           x_8           x_9          x_10  \\\n",
       "count  19565.000000  19565.000000  19565.000000  19565.000000  19565.000000   \n",
       "mean       0.193689      0.192769      0.192905      0.193743      0.197179   \n",
       "std        0.160739      0.171927      0.174343      0.171893      0.170597   \n",
       "min        0.000000      0.000000      0.000000      0.000000      0.000000   \n",
       "25%        0.083333      0.068465      0.063291      0.061753      0.065844   \n",
       "50%        0.148276      0.137931      0.135029      0.140325      0.145933   \n",
       "75%        0.264758      0.279221      0.282187      0.286506      0.287726   \n",
       "max        1.000000      1.000000      1.000000      1.000000      0.991429   \n",
       "\n",
       "       ...         x_179         x_180         x_181         x_182  \\\n",
       "count  ...  19565.000000  19565.000000  19565.000000  19565.000000   \n",
       "mean   ...      0.004113      0.003821      0.003485      0.003218   \n",
       "std    ...      0.041312      0.040290      0.038035      0.036679   \n",
       "min    ...      0.000000      0.000000      0.000000      0.000000   \n",
       "25%    ...      0.000000      0.000000      0.000000      0.000000   \n",
       "50%    ...      0.000000      0.000000      0.000000      0.000000   \n",
       "75%    ...      0.000000      0.000000      0.000000      0.000000   \n",
       "max    ...      0.980392      1.000000      0.966102      1.000000   \n",
       "\n",
       "              x_183         x_184         x_185         x_186         x_187  \\\n",
       "count  19565.000000  19565.000000  19565.000000  19565.000000  19565.000000   \n",
       "mean       0.003049      0.002836      0.002471      0.002252      0.002218   \n",
       "std        0.035847      0.034509      0.031731      0.030649      0.030541   \n",
       "min        0.000000      0.000000      0.000000      0.000000      0.000000   \n",
       "25%        0.000000      0.000000      0.000000      0.000000      0.000000   \n",
       "50%        0.000000      0.000000      0.000000      0.000000      0.000000   \n",
       "75%        0.000000      0.000000      0.000000      0.000000      0.000000   \n",
       "max        1.000000      0.973366      1.000000      0.996053      1.000000   \n",
       "\n",
       "             target  \n",
       "count  19565.000000  \n",
       "mean       0.074010  \n",
       "std        0.261793  \n",
       "min        0.000000  \n",
       "25%        0.000000  \n",
       "50%        0.000000  \n",
       "75%        0.000000  \n",
       "max        1.000000  \n",
       "\n",
       "[8 rows x 188 columns]"
      ]
     },
     "execution_count": 6,
     "metadata": {},
     "output_type": "execute_result"
    }
   ],
   "source": [
    "data.describe()"
   ]
  },
  {
   "cell_type": "code",
   "execution_count": 7,
   "id": "20b2b41b",
   "metadata": {},
   "outputs": [
    {
     "name": "stdout",
     "output_type": "stream",
     "text": [
      "<class 'pandas.core.frame.DataFrame'>\n",
      "RangeIndex: 19565 entries, 0 to 19564\n",
      "Columns: 188 entries, x_1 to target\n",
      "dtypes: float64(187), int64(1)\n",
      "memory usage: 28.1 MB\n"
     ]
    }
   ],
   "source": [
    "data.info()"
   ]
  },
  {
   "cell_type": "markdown",
   "id": "58453673",
   "metadata": {},
   "source": [
    "## (2) Data Exploration"
   ]
  },
  {
   "cell_type": "code",
   "execution_count": 17,
   "id": "0cfa36e1",
   "metadata": {},
   "outputs": [
    {
     "data": {
      "image/png": "[encoded data removed]",
      "text/plain": [
       "<Figure size 640x480 with 1 Axes>"
      ]
     },
     "metadata": {},
     "output_type": "display_data"
    }
   ],
   "source": [
    "plt.plot(data.iloc[3, :-1])\n",
    "plt.tick_params(labelbottom=False)\n",
    "plt.title('At risk heartbeat')\n",
    "plt.show()"
   ]
  },
  {
   "cell_type": "code",
   "execution_count": 18,
   "id": "76f6c25e",
   "metadata": {},
   "outputs": [
    {
     "data": {
      "image/png": "[encoded data removed]",
      "text/plain": [
       "<Figure size 640x480 with 1 Axes>"
      ]
     },
     "metadata": {},
     "output_type": "display_data"
    }
   ],
   "source": [
    "plt.plot(data.iloc[19560, :-1])\n",
    "plt.tick_params(labelbottom=False)\n",
    "plt.title('Healthy heartbeat')\n",
    "plt.show()"
   ]
  },
  {
   "cell_type": "code",
   "execution_count": 26,
   "id": "89b164ec",
   "metadata": {},
   "outputs": [
    {
     "name": "stdout",
     "output_type": "stream",
     "text": [
      "18117\n",
      "1448\n"
     ]
    }
   ],
   "source": [
    "healthy_count, at_risk_count = data['target'].value_counts()\n",
    "print(healthy_count)\n",
    "print(at_risk_count)"
   ]
  },
  {
   "cell_type": "code",
   "execution_count": 27,
   "id": "075c181d",
   "metadata": {},
   "outputs": [
    {
     "data": {
      "text/plain": [
       "target\n",
       "0    0.92599\n",
       "1    0.07401\n",
       "Name: proportion, dtype: float64"
      ]
     },
     "execution_count": 27,
     "metadata": {},
     "output_type": "execute_result"
    }
   ],
   "source": [
    "data.target.value_counts(normalize=True)"
   ]
  },
  {
   "cell_type": "markdown",
   "id": "8c6c0695",
   "metadata": {},
   "source": [
    "## (3) Logistic Regression"
   ]
  },
  {
   "cell_type": "code",
   "execution_count": 37,
   "id": "6f56d245",
   "metadata": {},
   "outputs": [
    {
     "data": {
      "text/html": [
       "<div>\n",
       "<style scoped>\n",
       "    .dataframe tbody tr th:only-of-type {\n",
       "        vertical-align: middle;\n",
       "    }\n",
       "\n",
       "    .dataframe tbody tr th {\n",
       "        vertical-align: top;\n",
       "    }\n",
       "\n",
       "    .dataframe thead th {\n",
       "        text-align: right;\n",
       "    }\n",
       "</style>\n",
       "<table border=\"1\" class=\"dataframe\">\n",
       "  <thead>\n",
       "    <tr style=\"text-align: right;\">\n",
       "      <th></th>\n",
       "      <th>fit_time</th>\n",
       "      <th>score_time</th>\n",
       "      <th>test_accuracy</th>\n",
       "      <th>test_recall</th>\n",
       "      <th>test_precision</th>\n",
       "      <th>test_f1</th>\n",
       "    </tr>\n",
       "  </thead>\n",
       "  <tbody>\n",
       "    <tr>\n",
       "      <th>0</th>\n",
       "      <td>0.426984</td>\n",
       "      <td>0.009462</td>\n",
       "      <td>0.943281</td>\n",
       "      <td>0.358621</td>\n",
       "      <td>0.742857</td>\n",
       "      <td>0.483721</td>\n",
       "    </tr>\n",
       "    <tr>\n",
       "      <th>1</th>\n",
       "      <td>0.350601</td>\n",
       "      <td>0.009399</td>\n",
       "      <td>0.934594</td>\n",
       "      <td>0.248276</td>\n",
       "      <td>0.654545</td>\n",
       "      <td>0.360000</td>\n",
       "    </tr>\n",
       "    <tr>\n",
       "      <th>2</th>\n",
       "      <td>0.401826</td>\n",
       "      <td>0.011042</td>\n",
       "      <td>0.941237</td>\n",
       "      <td>0.379310</td>\n",
       "      <td>0.687500</td>\n",
       "      <td>0.488889</td>\n",
       "    </tr>\n",
       "    <tr>\n",
       "      <th>3</th>\n",
       "      <td>0.274976</td>\n",
       "      <td>0.009804</td>\n",
       "      <td>0.935105</td>\n",
       "      <td>0.303448</td>\n",
       "      <td>0.628571</td>\n",
       "      <td>0.409302</td>\n",
       "    </tr>\n",
       "    <tr>\n",
       "      <th>4</th>\n",
       "      <td>0.363516</td>\n",
       "      <td>0.010444</td>\n",
       "      <td>0.944303</td>\n",
       "      <td>0.379310</td>\n",
       "      <td>0.743243</td>\n",
       "      <td>0.502283</td>\n",
       "    </tr>\n",
       "    <tr>\n",
       "      <th>5</th>\n",
       "      <td>0.274059</td>\n",
       "      <td>0.010669</td>\n",
       "      <td>0.936094</td>\n",
       "      <td>0.337931</td>\n",
       "      <td>0.628205</td>\n",
       "      <td>0.439462</td>\n",
       "    </tr>\n",
       "    <tr>\n",
       "      <th>6</th>\n",
       "      <td>0.313479</td>\n",
       "      <td>0.010100</td>\n",
       "      <td>0.940184</td>\n",
       "      <td>0.344828</td>\n",
       "      <td>0.694444</td>\n",
       "      <td>0.460829</td>\n",
       "    </tr>\n",
       "    <tr>\n",
       "      <th>7</th>\n",
       "      <td>0.359626</td>\n",
       "      <td>0.009203</td>\n",
       "      <td>0.937628</td>\n",
       "      <td>0.324138</td>\n",
       "      <td>0.661972</td>\n",
       "      <td>0.435185</td>\n",
       "    </tr>\n",
       "    <tr>\n",
       "      <th>8</th>\n",
       "      <td>0.337469</td>\n",
       "      <td>0.009192</td>\n",
       "      <td>0.939162</td>\n",
       "      <td>0.305556</td>\n",
       "      <td>0.698413</td>\n",
       "      <td>0.425121</td>\n",
       "    </tr>\n",
       "    <tr>\n",
       "      <th>9</th>\n",
       "      <td>0.262973</td>\n",
       "      <td>0.010009</td>\n",
       "      <td>0.938139</td>\n",
       "      <td>0.305556</td>\n",
       "      <td>0.676923</td>\n",
       "      <td>0.421053</td>\n",
       "    </tr>\n",
       "  </tbody>\n",
       "</table>\n",
       "</div>"
      ],
      "text/plain": [
       "   fit_time  score_time  test_accuracy  test_recall  test_precision   test_f1\n",
       "0  0.426984    0.009462       0.943281     0.358621        0.742857  0.483721\n",
       "1  0.350601    0.009399       0.934594     0.248276        0.654545  0.360000\n",
       "2  0.401826    0.011042       0.941237     0.379310        0.687500  0.488889\n",
       "3  0.274976    0.009804       0.935105     0.303448        0.628571  0.409302\n",
       "4  0.363516    0.010444       0.944303     0.379310        0.743243  0.502283\n",
       "5  0.274059    0.010669       0.936094     0.337931        0.628205  0.439462\n",
       "6  0.313479    0.010100       0.940184     0.344828        0.694444  0.460829\n",
       "7  0.359626    0.009203       0.937628     0.324138        0.661972  0.435185\n",
       "8  0.337469    0.009192       0.939162     0.305556        0.698413  0.425121\n",
       "9  0.262973    0.010009       0.938139     0.305556        0.676923  0.421053"
      ]
     },
     "execution_count": 37,
     "metadata": {},
     "output_type": "execute_result"
    }
   ],
   "source": [
    "lr_model = LogisticRegression(max_iter=1000)\n",
    "X = data.drop(columns=['target'])\n",
    "y = data.target\n",
    "cv_results = cross_validate(lr_model, X, y, cv=10,\n",
    "                             scoring=['accuracy','recall','precision','f1'])\n",
    "pd.DataFrame(cv_results)"
   ]
  },
  {
   "cell_type": "code",
   "execution_count": 43,
   "id": "0f1673ca",
   "metadata": {},
   "outputs": [
    {
     "name": "stdout",
     "output_type": "stream",
     "text": [
      "0.93897246839775\n",
      "0.3286973180076628\n",
      "0.6816674448188533\n",
      "0.4425845215932295\n"
     ]
    }
   ],
   "source": [
    "correct_pred_ratio = cv_results['test_accuracy'].mean()\n",
    "flag_ratio = cv_results['test_recall'].mean()\n",
    "correct_detection_ratio = cv_results['test_precision'].mean()\n",
    "aggregated_metric = cv_results['test_f1'].mean()\n",
    "print(correct_pred_ratio)\n",
    "print(flag_ratio)\n",
    "print(correct_detection_ratio)\n",
    "print(aggregated_metric)"
   ]
  },
  {
   "cell_type": "code",
   "execution_count": 44,
   "id": "4bfbf8c6",
   "metadata": {},
   "outputs": [
    {
     "name": "stdout",
     "output_type": "stream",
     "text": [
      "You should have noticed that the model was able to predict correctly in 94 cases out of 100. \n",
      "However, it was able to capture only 33.0 % of the at-risk patients\n",
      "Why ? Let's print a confusion matrix!\n"
     ]
    }
   ],
   "source": [
    "print(f\"You should have noticed that the model was able to predict correctly in {int(round(correct_pred_ratio,2)*100)} cases out of 100. \")\n",
    "\n",
    "print(f\"However, it was able to capture only {round(flag_ratio,2)*100} % of the at-risk patients\")\n",
    "\n",
    "print(\"Why ? Let's print a confusion matrix!\")"
   ]
  },
  {
   "cell_type": "markdown",
   "id": "1f6d523a",
   "metadata": {},
   "source": [
    "## (4) Confusion Matrix"
   ]
  },
  {
   "cell_type": "code",
   "execution_count": 52,
   "id": "93ac8cb5",
   "metadata": {},
   "outputs": [
    {
     "data": {
      "image/png": "[encoded data removed]",
      "text/plain": [
       "<Figure size 640x480 with 2 Axes>"
      ]
     },
     "metadata": {},
     "output_type": "display_data"
    }
   ],
   "source": [
    "X_train, X_test, y_train, y_test = train_test_split(X, y, random_state=0)\n",
    "LR = LogisticRegression(max_iter=1000)\n",
    "LR.fit(X_train, y_train)\n",
    "\n",
    "predictions = LR.predict(X_test)\n",
    "cm = confusion_matrix(y_test, predictions, labels=LR.classes_)\n",
    "disp = ConfusionMatrixDisplay(confusion_matrix=cm, display_labels=['Healthy', 'At risk'])\n",
    "disp.plot()\n",
    "plt.show()"
   ]
  },
  {
   "cell_type": "code",
   "execution_count": 53,
   "id": "152287b8",
   "metadata": {},
   "outputs": [
    {
     "name": "stdout",
     "output_type": "stream",
     "text": [
      "--------------------------------------------------\n",
      "Printing the confusion Matrix focusing on the Recall - the ability to capture classes\n"
     ]
    },
    {
     "data": {
      "text/plain": [
       "<sklearn.metrics._plot.confusion_matrix.ConfusionMatrixDisplay at 0x19dade13100>"
      ]
     },
     "execution_count": 53,
     "metadata": {},
     "output_type": "execute_result"
    },
    {
     "data": {
      "image/png": "[encoded data removed]",
      "text/plain": [
       "<Figure size 640x480 with 2 Axes>"
      ]
     },
     "metadata": {},
     "output_type": "display_data"
    }
   ],
   "source": [
    "print(\"-\"*50)\n",
    "print(\"Printing the confusion Matrix focusing on the Recall - the ability to capture classes\")\n",
    "cm = confusion_matrix(y_test, predictions,\n",
    "                     normalize = 'true')\n",
    "disp = ConfusionMatrixDisplay(confusion_matrix=cm,\n",
    "                              display_labels=LR.classes_)\n",
    "disp.plot()"
   ]
  },
  {
   "cell_type": "code",
   "execution_count": 54,
   "id": "640a6045",
   "metadata": {},
   "outputs": [
    {
     "name": "stdout",
     "output_type": "stream",
     "text": [
      "--------------------------------------------------\n",
      "Printing the confusion Matrix focusing on the Precision - the ability to avoid false alarms\n"
     ]
    },
    {
     "data": {
      "text/plain": [
       "<sklearn.metrics._plot.confusion_matrix.ConfusionMatrixDisplay at 0x19dade10fc0>"
      ]
     },
     "execution_count": 54,
     "metadata": {},
     "output_type": "execute_result"
    },
    {
     "data": {
      "image/png": "[encoded data removed]",
      "text/plain": [
       "<Figure size 640x480 with 2 Axes>"
      ]
     },
     "metadata": {},
     "output_type": "display_data"
    }
   ],
   "source": [
    "print(\"-\"*50)\n",
    "print(\"Printing the confusion Matrix focusing on the Precision - the ability to avoid false alarms\")\n",
    "cm = confusion_matrix(y_test, predictions,\n",
    "                     normalize = 'pred')\n",
    "disp = ConfusionMatrixDisplay(confusion_matrix=cm,\n",
    "                              display_labels=LR.classes_)\n",
    "disp.plot()"
   ]
  },
  {
   "cell_type": "markdown",
   "id": "bc841541",
   "metadata": {},
   "source": [
    "## (5) KNN Classfier"
   ]
  },
  {
   "cell_type": "code",
   "execution_count": 56,
   "id": "f17452d5",
   "metadata": {},
   "outputs": [
    {
     "name": "stdout",
     "output_type": "stream",
     "text": [
      "0.9864040573767493\n",
      "0.8680507662835248\n",
      "0.9438330326255999\n",
      "0.9041585493379827\n"
     ]
    }
   ],
   "source": [
    "KNN_classifier = KNeighborsClassifier(n_neighbors=5)\n",
    "cv_results = cross_validate(KNN_classifier, X, y, cv=10,\n",
    "                            scoring=['accuracy', 'recall', 'precision', 'f1'])\n",
    "correct_pred_ratio = cv_results['test_accuracy'].mean()\n",
    "flag_ratio = cv_results['test_recall'].mean()\n",
    "correct_detection_ratio = cv_results['test_precision'].mean()\n",
    "aggregated_metric = cv_results['test_f1'].mean()\n",
    "print(correct_pred_ratio)\n",
    "print(flag_ratio)\n",
    "print(correct_detection_ratio)\n",
    "print(aggregated_metric)"
   ]
  },
  {
   "cell_type": "markdown",
   "id": "b7892255",
   "metadata": {},
   "source": [
    "## (6) Classification Report"
   ]
  },
  {
   "cell_type": "code",
   "execution_count": 58,
   "id": "0e5fde97",
   "metadata": {},
   "outputs": [
    {
     "name": "stdout",
     "output_type": "stream",
     "text": [
      "              precision    recall  f1-score   support\n",
      "\n",
      "      Health       0.99      0.99      0.99      4550\n",
      "     At Risk       0.92      0.86      0.89       342\n",
      "\n",
      "    accuracy                           0.99      4892\n",
      "   macro avg       0.96      0.93      0.94      4892\n",
      "weighted avg       0.98      0.99      0.99      4892\n",
      "\n"
     ]
    }
   ],
   "source": [
    "KNN_classifier = KNeighborsClassifier(n_neighbors=5).fit(X_train, y_train)\n",
    "predictions = KNN_classifier.predict(X_test)\n",
    "print(classification_report(y_test, predictions, target_names=['Health', 'At Risk']))"
   ]
  },
  {
   "cell_type": "code",
   "execution_count": 60,
   "id": "ac9546db",
   "metadata": {},
   "outputs": [
    {
     "name": "stdout",
     "output_type": "stream",
     "text": [
      "              precision    recall  f1-score   support\n",
      "\n",
      "           0       0.99      1.00      0.99     18117\n",
      "           1       0.94      0.86      0.90      1448\n",
      "\n",
      "    accuracy                           0.99     19565\n",
      "   macro avg       0.96      0.93      0.94     19565\n",
      "weighted avg       0.99      0.99      0.99     19565\n",
      "\n"
     ]
    }
   ],
   "source": [
    "KNN_classifier = KNeighborsClassifier(n_neighbors=5)\n",
    "y_pred = cross_val_predict(KNN_classifier, X, y)\n",
    "print(classification_report(y, y_pred))"
   ]
  },
  {
   "cell_type": "code",
   "execution_count": null,
   "id": "9724969c",
   "metadata": {},
   "outputs": [],
   "source": [
    "# Among the heartbeats predicted at-risk, what is the ratio of correct predictions?\n",
    "# Is the precision metric for class 1 -> 0.94"
   ]
  },
  {
   "cell_type": "markdown",
   "id": "2a798dce",
   "metadata": {},
   "source": [
    "## (7) Prediction"
   ]
  },
  {
   "cell_type": "code",
   "execution_count": 61,
   "id": "c00ab9de",
   "metadata": {},
   "outputs": [
    {
     "data": {
      "text/html": [
       "<div>\n",
       "<style scoped>\n",
       "    .dataframe tbody tr th:only-of-type {\n",
       "        vertical-align: middle;\n",
       "    }\n",
       "\n",
       "    .dataframe tbody tr th {\n",
       "        vertical-align: top;\n",
       "    }\n",
       "\n",
       "    .dataframe thead th {\n",
       "        text-align: right;\n",
       "    }\n",
       "</style>\n",
       "<table border=\"1\" class=\"dataframe\">\n",
       "  <thead>\n",
       "    <tr style=\"text-align: right;\">\n",
       "      <th></th>\n",
       "      <th>x_1</th>\n",
       "      <th>x_2</th>\n",
       "      <th>x_3</th>\n",
       "      <th>x_4</th>\n",
       "      <th>x_5</th>\n",
       "      <th>x_6</th>\n",
       "      <th>x_7</th>\n",
       "      <th>x_8</th>\n",
       "      <th>x_9</th>\n",
       "      <th>x_10</th>\n",
       "      <th>...</th>\n",
       "      <th>x_178</th>\n",
       "      <th>x_179</th>\n",
       "      <th>x_180</th>\n",
       "      <th>x_181</th>\n",
       "      <th>x_182</th>\n",
       "      <th>x_183</th>\n",
       "      <th>x_184</th>\n",
       "      <th>x_185</th>\n",
       "      <th>x_186</th>\n",
       "      <th>x_187</th>\n",
       "    </tr>\n",
       "  </thead>\n",
       "  <tbody>\n",
       "    <tr>\n",
       "      <th>0</th>\n",
       "      <td>0.904762</td>\n",
       "      <td>0.993197</td>\n",
       "      <td>1.0</td>\n",
       "      <td>0.956916</td>\n",
       "      <td>0.902494</td>\n",
       "      <td>0.857143</td>\n",
       "      <td>0.802721</td>\n",
       "      <td>0.777778</td>\n",
       "      <td>0.709751</td>\n",
       "      <td>0.557823</td>\n",
       "      <td>...</td>\n",
       "      <td>0.0</td>\n",
       "      <td>0.0</td>\n",
       "      <td>0.0</td>\n",
       "      <td>0.0</td>\n",
       "      <td>0.0</td>\n",
       "      <td>0.0</td>\n",
       "      <td>0.0</td>\n",
       "      <td>0.0</td>\n",
       "      <td>0.0</td>\n",
       "      <td>0.0</td>\n",
       "    </tr>\n",
       "  </tbody>\n",
       "</table>\n",
       "<p>1 rows × 187 columns</p>\n",
       "</div>"
      ],
      "text/plain": [
       "        x_1       x_2  x_3       x_4       x_5       x_6       x_7       x_8  \\\n",
       "0  0.904762  0.993197  1.0  0.956916  0.902494  0.857143  0.802721  0.777778   \n",
       "\n",
       "        x_9      x_10  ...  x_178  x_179  x_180  x_181  x_182  x_183  x_184  \\\n",
       "0  0.709751  0.557823  ...    0.0    0.0    0.0    0.0    0.0    0.0    0.0   \n",
       "\n",
       "   x_185  x_186  x_187  \n",
       "0    0.0    0.0    0.0  \n",
       "\n",
       "[1 rows x 187 columns]"
      ]
     },
     "execution_count": 61,
     "metadata": {},
     "output_type": "execute_result"
    }
   ],
   "source": [
    "new_patient = pd.read_csv(\"../data/metrics/ML_Electrocardiograms_new_patient.csv\")\n",
    "new_patient.head()"
   ]
  },
  {
   "cell_type": "code",
   "execution_count": 63,
   "id": "e84357e2",
   "metadata": {},
   "outputs": [
    {
     "data": {
      "text/plain": [
       "array([1])"
      ]
     },
     "execution_count": 63,
     "metadata": {},
     "output_type": "execute_result"
    }
   ],
   "source": [
    "KNN_classifier = KNeighborsClassifier(n_neighbors=5).fit(X, y)\n",
    "prediction = KNN_classifier.predict(new_patient)\n",
    "prediction"
   ]
  }
 ],
 "metadata": {
  "kernelspec": {
   "display_name": "Python 3",
   "language": "python",
   "name": "python3"
  },
  "language_info": {
   "codemirror_mode": {
    "name": "ipython",
    "version": 3
   },
   "file_extension": ".py",
   "mimetype": "text/x-python",
   "name": "python",
   "nbconvert_exporter": "python",
   "pygments_lexer": "ipython3",
   "version": "3.13.7"
  }
 },
 "nbformat": 4,
 "nbformat_minor": 5
}
